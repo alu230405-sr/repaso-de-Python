{
  "nbformat": 4,
  "nbformat_minor": 0,
  "metadata": {
    "colab": {
      "provenance": [],
      "authorship_tag": "ABX9TyNfaxR7TAiUCUUY2tqbM2Bc",
      "include_colab_link": true
    },
    "kernelspec": {
      "name": "python3",
      "display_name": "Python 3"
    },
    "language_info": {
      "name": "python"
    }
  },
  "cells": [
    {
      "cell_type": "markdown",
      "metadata": {
        "id": "view-in-github",
        "colab_type": "text"
      },
      "source": [
        "<a href=\"https://colab.research.google.com/github/alu230405-sr/repaso-de-Python/blob/main/DannaBD.ipynb\" target=\"_parent\"><img src=\"https://colab.research.google.com/assets/colab-badge.svg\" alt=\"Open In Colab\"/></a>"
      ]
    },
    {
      "cell_type": "code",
      "execution_count": null,
      "metadata": {
        "id": "MnQGOva8EemX"
      },
      "outputs": [],
      "source": []
    },
    {
      "cell_type": "markdown",
      "source": [
        "realizar un programa que permita capturar tu nombre y lo imprima seguido de una bienvenida"
      ],
      "metadata": {
        "id": "zmTe0hQtEyvk"
      }
    },
    {
      "cell_type": "code",
      "source": [
        "\n",
        "\n",
        "nombre = input(\"ingresa tu nombre:\")\n",
        "print(nombre,\"bienvenido al programa\")"
      ],
      "metadata": {
        "colab": {
          "base_uri": "https://localhost:8080/"
        },
        "id": "bwpZ-XvPFDn7",
        "outputId": "a02ee957-f99c-4506-c796-e41d019dcd46"
      },
      "execution_count": 16,
      "outputs": [
        {
          "output_type": "stream",
          "name": "stdout",
          "text": [
            "ingresa tu nombre:lechugitamasterlelepoms\n",
            "lechugitamasterlelepoms bienvenido al programa\n"
          ]
        }
      ]
    },
    {
      "cell_type": "markdown",
      "source": [
        "realizar un programa que permita capturar 2 numeros enteros e imprima la suma,la resta,la multiplicacion y la division entre ellos"
      ],
      "metadata": {
        "id": "wqLbqAk4IOwS"
      }
    },
    {
      "cell_type": "code",
      "source": [
        "num1 = int(input(\"captura un numero:\"))\n",
        "num2 = int(input(\"captura un numero:\"))\n",
        "s=num1+num2\n",
        "print(\"la suma es:\",s)\n",
        "r=num1-num2\n",
        "print(\"la resta es:\",r)\n",
        "m=num1*num2\n",
        "print(\"la multiplicacion es:\",m)\n",
        "d=num1/num2\n",
        "print(\"la division es:\",d)"
      ],
      "metadata": {
        "colab": {
          "base_uri": "https://localhost:8080/"
        },
        "id": "eA1w4lAIIfXZ",
        "outputId": "e58adcfc-b8d3-4075-9b25-2d88accf5a1c"
      },
      "execution_count": 15,
      "outputs": [
        {
          "output_type": "stream",
          "name": "stdout",
          "text": [
            "captura un numero:5\n",
            "captura un numero:2\n",
            "la suma es: 7\n",
            "la resta es: 3\n",
            "la multiplicacion es: 10\n",
            "la division es: 2.5\n"
          ]
        }
      ]
    }
  ]
}