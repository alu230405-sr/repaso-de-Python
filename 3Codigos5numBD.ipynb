{
  "nbformat": 4,
  "nbformat_minor": 0,
  "metadata": {
    "colab": {
      "provenance": [],
      "authorship_tag": "ABX9TyMfI2g9dxd43EY6ixHIlLvZ",
      "include_colab_link": true
    },
    "kernelspec": {
      "name": "python3",
      "display_name": "Python 3"
    },
    "language_info": {
      "name": "python"
    }
  },
  "cells": [
    {
      "cell_type": "markdown",
      "metadata": {
        "id": "view-in-github",
        "colab_type": "text"
      },
      "source": [
        "<a href=\"https://colab.research.google.com/github/alu230405-sr/repaso-de-Python/blob/main/3Codigos5numBD.ipynb\" target=\"_parent\"><img src=\"https://colab.research.google.com/assets/colab-badge.svg\" alt=\"Open In Colab\"/></a>"
      ]
    },
    {
      "cell_type": "code",
      "execution_count": null,
      "metadata": {
        "id": "26B8uesLDk3i"
      },
      "outputs": [],
      "source": []
    },
    {
      "cell_type": "markdown",
      "source": [
        " Realizar un programa en python que te permita capturar 3 números enteros e imprima cual de los 3 es el mayor"
      ],
      "metadata": {
        "id": "86W8zy3eEZnT"
      }
    },
    {
      "cell_type": "code",
      "source": [
        "num1 = int(input(\"ingresa el primer numero:\"))\n",
        "num2 = int(input(\"ingresa el segundo numero:\"))\n",
        "num3 = int(input(\"ingresa el tercer numero:\"))\n",
        "\n",
        "if num1 <=num2 and num1 >=num2:\n",
        " mayor = num1\n",
        "if num2 <=num3 and num2 >=num3:\n",
        " mayor = num2\n",
        "else:\n",
        " mayor = num3\n",
        "print(\"el numero mayor es:\",mayor)"
      ],
      "metadata": {
        "colab": {
          "base_uri": "https://localhost:8080/"
        },
        "id": "KSdAlWiiEa3J",
        "outputId": "e324075d-2522-41b9-cb37-8fc7e0735a84"
      },
      "execution_count": 4,
      "outputs": [
        {
          "output_type": "stream",
          "name": "stdout",
          "text": [
            "ingresa el primer numero:4\n",
            "ingresa el segundo numero:5\n",
            "ingresa el tercer numero:8\n",
            "el numero mayor es: 8\n"
          ]
        }
      ]
    },
    {
      "cell_type": "markdown",
      "source": [
        " Realizar un programa en python mediante el cual calcules el total de caracteres que tiene un nombre capturado desde el teclado.\n"
      ],
      "metadata": {
        "id": "MhtVkZUUG1xx"
      }
    },
    {
      "cell_type": "code",
      "source": [
        "nombre = input(\"ingresa tu nombre:\")\n",
        "print (\"el nombre tiene:\",len(nombre),\"caracteres\")"
      ],
      "metadata": {
        "colab": {
          "base_uri": "https://localhost:8080/"
        },
        "id": "6acHpfytG26h",
        "outputId": "f545d4f0-f236-4a59-82e9-4c994581a8ee"
      },
      "execution_count": 5,
      "outputs": [
        {
          "output_type": "stream",
          "name": "stdout",
          "text": [
            "ingresa tu nombre:danna\n",
            "el nombre tiene: 5 caracteres\n"
          ]
        }
      ]
    },
    {
      "cell_type": "markdown",
      "source": [
        "Realizar un programa en python que permita imprimir los 7 días de la semana."
      ],
      "metadata": {
        "id": "5K67duy7Ihm0"
      }
    },
    {
      "cell_type": "code",
      "source": [
        "dias = [\"lunes\" , \"Martes\" , \"miercoles\" , \"jueves\" , \"viernes\" , \"sabado\" , \"domingo\"]\n",
        "\n",
        "for dia in dias:\n",
        "  print(dia)"
      ],
      "metadata": {
        "colab": {
          "base_uri": "https://localhost:8080/"
        },
        "id": "LpmKLpAJIk6r",
        "outputId": "1aba0448-cb51-4db3-e21d-9ee79375ad72"
      },
      "execution_count": 9,
      "outputs": [
        {
          "output_type": "stream",
          "name": "stdout",
          "text": [
            "lunes\n",
            "Martes\n",
            "miercoles\n",
            "jueves\n",
            "viernes\n",
            "sabado\n",
            "domingo\n"
          ]
        }
      ]
    }
  ]
}